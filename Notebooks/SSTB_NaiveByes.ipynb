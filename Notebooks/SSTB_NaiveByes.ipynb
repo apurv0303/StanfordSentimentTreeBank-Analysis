{
 "cells": [
  {
   "cell_type": "code",
   "execution_count": 152,
   "metadata": {},
   "outputs": [],
   "source": [
    "'''\n",
    "1.Importing Libraries\n",
    "\n",
    "'''\n",
    "import pandas as pd\n",
    "import numpy as np\n",
    "import pandas as pd\n",
    "import json\n",
    "import re\n",
    "import string\n",
    "import nltk\n",
    "import matplotlib.pyplot as plt\n",
    "from nltk.corpus import stopwords\n",
    "from nltk.stem import PorterStemmer\n",
    "from nltk.tokenize import TweetTokenizer\n",
    "from nltk.stem import WordNetLemmatizer\n",
    "from nltk.tag import pos_tag\n",
    "from collections import Counter\n"
   ]
  },
  {
   "cell_type": "code",
   "execution_count": 153,
   "metadata": {},
   "outputs": [
    {
     "data": {
      "text/plain": [
       "'DATA PRE-PROCESSING PART-1'"
      ]
     },
     "execution_count": 153,
     "metadata": {},
     "output_type": "execute_result"
    }
   ],
   "source": [
    "                                  '''DATA PRE-PROCESSING PART-1'''"
   ]
  },
  {
   "cell_type": "code",
   "execution_count": 154,
   "metadata": {},
   "outputs": [
    {
     "data": {
      "text/plain": [
       "11855"
      ]
     },
     "execution_count": 154,
     "metadata": {},
     "output_type": "execute_result"
    }
   ],
   "source": [
    "'''\n",
    "As Stanford data is present in quite complex form with different attributes in 5 files\n",
    "So,my aim was to just get an (TRAINING,TEST) LIST and (TRAINING,TEST) LABEL\n",
    "\n",
    "How I achieved clean dataset:\n",
    "1.Convert SOStr.txt file data in an texts list which contains all examples.\n",
    "2.Splitlabels contains example id and its part of train,test or label\n",
    "3.Then from sentiment labels,I created dictionary containing phraseId and sentiment they hold\n",
    "4.phrase and their is given in dictionary.txt file\n",
    "'''\n",
    "\n",
    "def read_text():\n",
    "    ifname = 'SOStr.txt'\n",
    "    lines = open(ifname, 'r').read().split('\\n')\n",
    "\n",
    "    texts = []\n",
    "    for line in lines:\n",
    "        params = line.split('|')\n",
    "        if len(params) > 1:\n",
    "            text = ' '.join(params)\n",
    "            texts.append(text)\n",
    "\n",
    "    return texts\n",
    "texts=read_text()\n",
    "len(texts)\n"
   ]
  },
  {
   "cell_type": "code",
   "execution_count": 155,
   "metadata": {},
   "outputs": [
    {
     "data": {
      "text/plain": [
       "11855"
      ]
     },
     "execution_count": 155,
     "metadata": {},
     "output_type": "execute_result"
    }
   ],
   "source": [
    "def read_splitlabel():\n",
    "    ifname = 'datasetSplit.txt'\n",
    "    lines = open(ifname, 'r').read().split('\\n')\n",
    "\n",
    "    splitlabels = []\n",
    "    for line in lines[1:]:\n",
    "        params = line.split(',')\n",
    "        if len(params) == 2:\n",
    "            splitlabels.append(int(params[1]))\n",
    "    \n",
    "    return splitlabels\n",
    "splitlabels=read_splitlabel()\n",
    "len(splitlabels)\n"
   ]
  },
  {
   "cell_type": "code",
   "execution_count": 156,
   "metadata": {},
   "outputs": [
    {
     "data": {
      "text/plain": [
       "239232"
      ]
     },
     "execution_count": 156,
     "metadata": {},
     "output_type": "execute_result"
    }
   ],
   "source": [
    "def read_sentiscore():\n",
    "\tifname = 'sentiment_labels.txt'\n",
    "\tlines = open(ifname, 'r').read().split('\\n')\n",
    "\n",
    "\tsentiscores = []\n",
    "\tfor line in lines[1:]:\n",
    "\t\tparams = line.split('|')\n",
    "\t\tif len(params) == 2:\n",
    "\t\t\tsentiscores.append(float(params[1]))\n",
    "\n",
    "\treturn sentiscores\n",
    "sentiscores=read_sentiscore()\n",
    "len(sentiscores)"
   ]
  },
  {
   "cell_type": "code",
   "execution_count": 157,
   "metadata": {},
   "outputs": [],
   "source": [
    "def read_phraseid():\n",
    "    ifname = 'dictionary.txt'\n",
    "    lines = open(ifname, 'r').read().split('\\n')\n",
    "\n",
    "    phraseid = {}\n",
    "    for line in lines:\n",
    "        params = line.split('|')\n",
    "        if len(params) == 2:\n",
    "            phraseid[params[0]] = int(params[1])\n",
    "\n",
    "    return phraseid\n",
    "phraseid=read_phraseid()\n",
    "# len(phraseid)\n",
    "# phraseid[\"The gorgeously elaborate continuation of `` The Lord of the Rings '' trilogy is so huge that a column of words can not adequately describe co-writer\\\\/director Peter Jackson 's expanded vision of J.R.R. Tolkien 's Middle-earth .\"]"
   ]
  },
  {
   "cell_type": "code",
   "execution_count": 158,
   "metadata": {},
   "outputs": [],
   "source": [
    "def prepare_valence():\n",
    "    texts = read_text()\n",
    "    splitlabels = read_splitlabel()\n",
    "    sentiscores = read_sentiscore()\n",
    "    phraseid = read_phraseid()\n",
    "\n",
    "    train_text = []\n",
    "    train_label = []\n",
    "    \n",
    "    valid_text = []\n",
    "    valid_label = []\n",
    "\n",
    "    test_text = []\n",
    "    test_label = []\n",
    "\n",
    "    n_sample = len(texts)\n",
    "    if n_sample == len(splitlabels) and len(sentiscores) == len(phraseid):\n",
    "        print('%d samples'%(n_sample))\n",
    "    else:\n",
    "        print('reading fail')\n",
    "\n",
    "    for i, didx in enumerate(splitlabels):\n",
    "        if didx == 1:\n",
    "            list_text = train_text\n",
    "            list_label = train_label\n",
    "        elif didx == 3:\n",
    "            list_text = valid_text\n",
    "            list_label = valid_label\n",
    "        elif didx == 2:\n",
    "            list_text = test_text\n",
    "            list_label = test_label\n",
    "\n",
    "        list_text.append(texts[i])\n",
    "        list_label.append(sentiscores[phraseid[texts[i]]])\n",
    "        \n",
    "    return train_text,train_label,test_text,test_label,valid_text,valid_label"
   ]
  },
  {
   "cell_type": "code",
   "execution_count": 159,
   "metadata": {},
   "outputs": [
    {
     "name": "stdout",
     "output_type": "stream",
     "text": [
      "11855 samples\n",
      "8544\n",
      "2210\n",
      "1101\n"
     ]
    }
   ],
   "source": [
    "def labelize(text,label):\n",
    "        y = []\n",
    "        for l in label:\n",
    "            if l <= 0.2:\n",
    "                y.append(0)\n",
    "            elif l <= 0.4:\n",
    "                y.append(1)\n",
    "            elif l <= 0.6:\n",
    "                y.append(2)\n",
    "            elif l <= 0.8:\n",
    "                y.append(3)\n",
    "            else:\n",
    "                y.append(4)\n",
    "        print(len(y))\n",
    "        return (text, y)\n",
    "train_tx,train_l,test_tx,test_l,valid_tx,valid_l=prepare_valence()\n",
    "train_text,train_label=labelize(train_tx,train_l)    \n",
    "test_text,test_label=labelize(test_tx,test_l)\n",
    "valid_text,valid_label=labelize(valid_tx,valid_l)"
   ]
  },
  {
   "cell_type": "code",
   "execution_count": 160,
   "metadata": {},
   "outputs": [],
   "source": [
    "'''\n",
    "Now as I have to use AMAZON Phone datset for final testing so I am merging given\n",
    "Training and validation set as One TRAIN_CORPUS\n",
    "'''\n",
    "Train_corpus=train_tx+valid_tx\n",
    "Train_label=train_label+valid_label"
   ]
  },
  {
   "cell_type": "code",
   "execution_count": 161,
   "metadata": {},
   "outputs": [
    {
     "data": {
      "text/plain": [
       "9645"
      ]
     },
     "execution_count": 161,
     "metadata": {},
     "output_type": "execute_result"
    }
   ],
   "source": [
    "len(Train_corpus)\n",
    "len(Train_label)"
   ]
  },
  {
   "cell_type": "code",
   "execution_count": 162,
   "metadata": {},
   "outputs": [],
   "source": []
  },
  {
   "cell_type": "code",
   "execution_count": 163,
   "metadata": {},
   "outputs": [],
   "source": [
    "'''\n",
    "NOW I have  MANIPULATED THE DATASET TO FIT ACCORDING TO MODEL\n",
    "\n",
    "'''\n",
    "'''\n",
    "POSITIVE means review id 2,3,4\n",
    "NEGATIVE means review id 0,1\n",
    "Then for binary classification POSITIVE becames 1\n",
    "                               Neagtive becomes 0\n",
    "'''\n",
    "\n",
    "def changing_labels(t_label):\n",
    "    for i,label in enumerate(t_label):\n",
    "        if label==1:\n",
    "            t_label[i]=0\n",
    "        elif label==2 or label==3 or label==4:\n",
    "            t_label[i]=1   \n",
    "    count_positive_reviews=0\n",
    "    count_negative_reviews=0\n",
    "    for label in t_label:\n",
    "        if label==1:\n",
    "            count_positive_reviews+=1\n",
    "        else:\n",
    "            count_negative_reviews+=1\n",
    "    return t_label,count_positive_reviews,count_negative_reviews"
   ]
  },
  {
   "cell_type": "code",
   "execution_count": 164,
   "metadata": {},
   "outputs": [],
   "source": [
    "Train_label,count_positive_reviews,count_negative_reviews=changing_labels(Train_label)\n",
    "test_label,count_positive_reviews_TEST,count_negative_reviews_TEST=changing_labels(test_label)"
   ]
  },
  {
   "cell_type": "code",
   "execution_count": 165,
   "metadata": {},
   "outputs": [
    {
     "name": "stdout",
     "output_type": "stream",
     "text": [
      "Number of positive reviews are 5907\n",
      "Number of negative reviews are 3738\n"
     ]
    }
   ],
   "source": [
    "print(\"Number of positive reviews are {}\".format(count_positive_reviews))\n",
    "print(\"Number of negative reviews are {}\".format(count_negative_reviews))"
   ]
  },
  {
   "cell_type": "code",
   "execution_count": 166,
   "metadata": {},
   "outputs": [
    {
     "name": "stdout",
     "output_type": "stream",
     "text": [
      "Number of positive reviews are 1298\n",
      "Number of negative reviews are 912\n"
     ]
    }
   ],
   "source": [
    "print(\"Number of positive reviews are {}\".format(count_positive_reviews_TEST))\n",
    "print(\"Number of negative reviews are {}\".format(count_negative_reviews_TEST))"
   ]
  },
  {
   "cell_type": "code",
   "execution_count": 167,
   "metadata": {},
   "outputs": [
    {
     "name": "stdout",
     "output_type": "stream",
     "text": [
      "Number of examples in Train_corpus 9645\n",
      "Number of examples in Train_corpus 2210\n"
     ]
    }
   ],
   "source": [
    "print(\"Number of examples in Train_corpus {}\".format(len(Train_corpus)))\n",
    "print(\"Number of examples in Train_corpus {}\".format(len(test_text)))"
   ]
  },
  {
   "cell_type": "code",
   "execution_count": 168,
   "metadata": {},
   "outputs": [],
   "source": [
    "'''\n",
    "5.Now Pre-Processing the reviews\n",
    "\n",
    "5.1:using Porter Stemmer\n",
    "5.2.Removing Stopwords\n",
    "5.3.Cleaning the text\n",
    "5.4.using tweet tokenizer \n",
    "5.5.Returning clean reviews\n",
    "5.6.Arranging words in pair(word,label) in an dict with value as their frequency\n",
    "'''\n",
    "\n",
    "def process_tweet(tweet):\n",
    "    \"\"\"Process tweet function.\n",
    "    Input:\n",
    "        tweet: a string containing a tweet\n",
    "    Output:\n",
    "        tweets_clean: a list of words containing the processed tweet\n",
    "\n",
    "    \"\"\"\n",
    "    stemmer = PorterStemmer()\n",
    "    lemmatizer = WordNetLemmatizer() \n",
    "    stopwords_english = stopwords.words('english')\n",
    "    # remove stock market tickers like $GE\n",
    "    tweet = re.sub(r'\\$\\w*', '', tweet)\n",
    "    # remove old style retweet text \"RT\"\n",
    "    tweet = re.sub(r'^RT[\\s]+', '', tweet)\n",
    "    # remove hyperlinks\n",
    "    tweet = re.sub(r'https?:\\/\\/.*[\\r\\n]*', '', tweet)\n",
    "    # remove hashtags\n",
    "    tweet = re.sub(r'#', '', tweet)\n",
    "    # tokenize tweets\n",
    "    tokenizer = TweetTokenizer(preserve_case=False, strip_handles=True,\n",
    "                               reduce_len=True)\n",
    "    tweet_tokens = tokenizer.tokenize(tweet)\n",
    "\n",
    "    tweets_clean = []\n",
    "    for word in tweet_tokens:\n",
    "        if (word not in stopwords_english and  # remove stopwords\n",
    "                word not in string.punctuation):  # remove punctuation\n",
    "            # tweets_clean.append(word)\n",
    "            stem_word = stemmer.stem(word)  # stemming word\n",
    "            if(pos_tag([word])[0][1]=='NN'):\n",
    "                pos='n'\n",
    "                lemma_word= lemmatizer.lemmatize(stem_word,pos)\n",
    "            elif(pos_tag([word])[0][1]=='VB'):\n",
    "                pos='v'\n",
    "                lemma_word= lemmatizer.lemmatize(stem_word,pos)\n",
    "            else:\n",
    "                pos='a'\n",
    "                lemma_word= lemmatizer.lemmatize(stem_word,pos)\n",
    "            tweets_clean.append(lemma_word)\n",
    "\n",
    "    return tweets_clean"
   ]
  },
  {
   "cell_type": "code",
   "execution_count": null,
   "metadata": {},
   "outputs": [],
   "source": []
  },
  {
   "cell_type": "code",
   "execution_count": 169,
   "metadata": {},
   "outputs": [],
   "source": [
    "def build_freqs(tweets, ys):\n",
    "    \"\"\"Build frequencies.\n",
    "    \n",
    "    Output will be:\n",
    "        freqs: a dictionary mapping each (word, sentiment[label 0 or 1]) pair to its\n",
    "        frequency\n",
    "    \"\"\"\n",
    "    \n",
    "    # The squeeze is necessary or the list ends up with one element.\n",
    "    yslist = np.squeeze(ys).tolist()\n",
    "    freqs = {}\n",
    "    for y, tweet in zip(yslist, tweets):\n",
    "        for word in process_tweet(tweet):\n",
    "            pair = (word, y)\n",
    "            if pair in freqs:\n",
    "                freqs[pair] += 1\n",
    "            else:\n",
    "                freqs[pair] = 1\n",
    "\n",
    "    return freqs"
   ]
  },
  {
   "cell_type": "code",
   "execution_count": 170,
   "metadata": {},
   "outputs": [],
   "source": [
    "'''\n",
    "Frequency\n",
    "'''\n",
    "freqs_train = build_freqs(Train_corpus,Train_label)"
   ]
  },
  {
   "cell_type": "code",
   "execution_count": 171,
   "metadata": {},
   "outputs": [
    {
     "data": {
      "text/plain": [
       "[(('film', 1), 974),\n",
       " (('movi', 1), 690),\n",
       " (('movi', 0), 579),\n",
       " (('film', 0), 494),\n",
       " (('...', 1), 417),\n",
       " ((\"n't\", 0), 410),\n",
       " (('one', 1), 396),\n",
       " ((\"n't\", 1), 364),\n",
       " (('like', 1), 321),\n",
       " (('like', 0), 319)]"
      ]
     },
     "execution_count": 171,
     "metadata": {},
     "output_type": "execute_result"
    }
   ],
   "source": [
    "WORDS=Counter(freqs_train)\n",
    "WORDS.most_common(10)\n"
   ]
  },
  {
   "cell_type": "code",
   "execution_count": 172,
   "metadata": {},
   "outputs": [
    {
     "data": {
      "text/plain": [
       "'MODEL MAKING part-3'"
      ]
     },
     "execution_count": 172,
     "metadata": {},
     "output_type": "execute_result"
    }
   ],
   "source": [
    "                                      '''MODEL MAKING PART-3'''"
   ]
  },
  {
   "cell_type": "code",
   "execution_count": 173,
   "metadata": {},
   "outputs": [],
   "source": [
    "'''\n",
    "8.Defining Naive byes model\n",
    "'''\n",
    "def train_naive_bayes(freqs, train_x, train_y):\n",
    "    \n",
    "    loglikelihood = {}\n",
    "    logprior = 0\n",
    "\n",
    "    # calculate V, the number of unique words in the vocabulary\n",
    "    vocab = set([pair[0] for pair in freqs.keys()])\n",
    "    V = len(vocab)\n",
    "\n",
    "    # calculate N_pos, N_neg, V_pos, V_neg\n",
    "    N_pos = N_neg = V_pos = V_neg = 0\n",
    "    for pair in freqs.keys():\n",
    "        # if the label is positive (greater than zero)\n",
    "        if pair[1] > 0:\n",
    "            # increment the count of unique positive words by 1\n",
    "            V_pos += 1\n",
    "\n",
    "            # Increment the number of positive words by the count for this (word, label) pair\n",
    "            N_pos += freqs[pair]\n",
    "\n",
    "        # else, the label is negative\n",
    "        else:\n",
    "            # increment the count of unique negative words by 1\n",
    "            V_neg += 1\n",
    "\n",
    "            # increment the number of negative words by the count for this (word,label) pair\n",
    "            N_neg += freqs[pair]\n",
    "\n",
    "    # Calculate D, the number of documents\n",
    "    D = len(Train_corpus)\n",
    "\n",
    "    # Calculate D_pos, the number of positive documents\n",
    "    D_pos = count_positive_reviews\n",
    "\n",
    "    # Calculate D_neg, the number of negative documents\n",
    "    D_neg = count_negative_reviews\n",
    "\n",
    "    # Calculate logprior\n",
    "    logprior = np.log(D_pos)-np.log(D_neg)\n",
    "\n",
    "    # For each word in the vocabulary...\n",
    "    for word in vocab:\n",
    "        # get the positive and negative frequency of the word\n",
    "        freq_pos = lookup(freqs,word,1.0)\n",
    "        freq_neg = lookup(freqs,word,0.0)\n",
    "\n",
    "        # calculate the probability that each word is positive, and negative\n",
    "        p_w_pos = (freq_pos+1)/(N_pos + (V_pos+V_neg))\n",
    "        p_w_neg = (freq_neg+1)/(N_neg+ (V_pos+V_neg))\n",
    "\n",
    "        # calculate the log likelihood of the word\n",
    "        loglikelihood[word] = np.log(p_w_pos)-np.log(p_w_neg)\n",
    "\n",
    "\n",
    "\n",
    "    return logprior, loglikelihood\n"
   ]
  },
  {
   "cell_type": "code",
   "execution_count": 174,
   "metadata": {},
   "outputs": [
    {
     "name": "stdout",
     "output_type": "stream",
     "text": [
      "0.4575873792917271\n",
      "12554\n"
     ]
    }
   ],
   "source": [
    "def lookup(freqs, word, label):\n",
    "    n = 0  # freqs.get((word, label), 0)\n",
    "\n",
    "    pair = (word, label)\n",
    "    if (pair in freqs):\n",
    "        n = freqs[pair]\n",
    "\n",
    "    return n\n",
    "\n",
    "logprior, loglikelihood = train_naive_bayes(freqs_train, Train_corpus, Train_label)\n",
    "print(logprior)\n",
    "print(len(loglikelihood))"
   ]
  },
  {
   "cell_type": "code",
   "execution_count": 175,
   "metadata": {},
   "outputs": [],
   "source": [
    "'''\n",
    "Predicting on any tweet\n",
    "'''\n",
    "def naive_bayes_predict(tweet, logprior, loglikelihood):\n",
    "    # process the tweet to get a list of words\n",
    "    word_l = process_tweet(tweet)\n",
    "\n",
    "    # initialize probability to zero\n",
    "    p = 0\n",
    "\n",
    "    # add the logprior\n",
    "    p += logprior\n",
    "\n",
    "    for word in word_l:\n",
    "\n",
    "        # check if the word exists in the loglikelihood dictionary\n",
    "        if word in loglikelihood:\n",
    "            # add the log likelihood of that word to the probability\n",
    "            p += loglikelihood[word]\n",
    "    return p"
   ]
  },
  {
   "cell_type": "code",
   "execution_count": 176,
   "metadata": {},
   "outputs": [],
   "source": [
    "'''\n",
    "Giving test data as input to model annp.expm1(Y) checking its accuracy\n",
    "\n",
    "'''\n",
    "from sklearn.metrics import precision_recall_fscore_support\n",
    "from sklearn.metrics import average_precision_score\n",
    "from sklearn.metrics import confusion_matrix\n",
    "def test_naive_bayes(test_x, test_y, logprior, loglikelihood):\n",
    "    accuracy = 0  # return this properly\n",
    "    y_hats = []\n",
    "    for tweet in test_x:\n",
    "        # if the prediction is > 0\n",
    "        if naive_bayes_predict(tweet, logprior, loglikelihood) > 0:\n",
    "            # the predicted class is 1\n",
    "            y_hat_i =1.0\n",
    "        else:\n",
    "            # otherwise the predicted class is 0\n",
    "            y_hat_i = 0.0\n",
    "\n",
    "        # append the predicted class to the list y_hats\n",
    "        y_hats.append(y_hat_i)\n",
    "    y_hats=np.asarray(y_hats)\n",
    "    # error is the average of the absolute values of the differences between y_hats and test_y\n",
    "    error = np.mean(np.abs(y_hats-test_y))\n",
    "    precision_score=average_precision_score(test_y,y_hats)\n",
    "    # Accuracy is 1 minus the error\n",
    "    accuracy = 1-error\n",
    "    \n",
    "\n",
    "    return accuracy,precision_score,y_hats"
   ]
  },
  {
   "cell_type": "code",
   "execution_count": 177,
   "metadata": {},
   "outputs": [],
   "source": [
    "acc,ps,y_hats=test_naive_bayes(test_text, test_label, logprior, loglikelihood)"
   ]
  },
  {
   "cell_type": "code",
   "execution_count": 178,
   "metadata": {},
   "outputs": [
    {
     "name": "stdout",
     "output_type": "stream",
     "text": [
      "The accuracy of naive byes model is 0.7339366515837105\n",
      "\n",
      "the Precision of naive byes model is 0.7103959947429539\n"
     ]
    }
   ],
   "source": [
    "print(\"The accuracy of naive byes model is {}\\n\".format(acc))\n",
    "print(\"the Precision of naive byes model is {}\".format(ps))\n"
   ]
  },
  {
   "cell_type": "code",
   "execution_count": 179,
   "metadata": {},
   "outputs": [
    {
     "data": {
      "text/plain": [
       "'WEB SCRAPPING PART'"
      ]
     },
     "execution_count": 179,
     "metadata": {},
     "output_type": "execute_result"
    }
   ],
   "source": [
    "                                      '''WEB SCRAPPING PART 4'''"
   ]
  },
  {
   "cell_type": "code",
   "execution_count": 222,
   "metadata": {},
   "outputs": [],
   "source": [
    "'''\n",
    "For scrapping task I have to scrap review of 10 phones with each having 10 reviews.\n",
    "So,The testing will be done on total 100 reviews.\n",
    "'''\n",
    "import requests\n",
    "from bs4 import BeautifulSoup  #I found beautiful soup more faster and easier to use than others.\n"
   ]
  },
  {
   "cell_type": "code",
   "execution_count": 223,
   "metadata": {},
   "outputs": [],
   "source": [
    "url_links=[\n",
    "     'https://www.amazon.in/OnePlus-Nord-Marble-128GB-Storage/product-reviews/B086977J3K/ref=cm_cr_dp_d_show_all_btm?ie=UTF8&reviewerType=all_reviews',\n",
    "  'https://www.amazon.in/Apple-iPhone-Xs-512GB-Space/product-reviews/B07J3CJH8S/ref=cm_cr_dp_d_show_all_btm?ie=UTF8&reviewerType=all_reviews',\n",
    "  'https://www.amazon.in/Samsung-Galaxy-Storage-Additional-Exchange/product-reviews/B089MQ7C7V/ref=cm_cr_dp_d_show_all_btm?ie=UTF8&reviewerType=all_reviews'\n",
    "    ,'https://www.amazon.in/OPPO-Storage-Additional-Exchange-Offers/product-reviews/B086KF4FYC/ref=cm_cr_dp_d_show_all_btm?ie=UTF8&reviewerType=all_reviews'\n",
    "    ,'https://www.amazon.in/Samsung-Galaxy-Ocean-128GB-Storage/product-reviews/B07HGGYWL6/ref=cm_cr_dp_d_show_all_btm?ie=UTF8&reviewerType=all_reviews'\n",
    "    ,'https://www.amazon.in/Redmi-8A-Dual-Blue-Storage/product-reviews/B07X4R63DF/ref=cm_cr_dp_d_show_all_btm?ie=UTF8&reviewerType=all_reviews'\n",
    "    ,'https://www.amazon.in/TECNO-Spark-Comet-Black-Storage/product-reviews/B08HX4RKR1/ref=cm_cr_dp_d_show_all_btm?ie=UTF8&reviewerType=all_reviews'\n",
    "    ,'https://www.amazon.in/Apple-iPhone-11-64GB-White/product-reviews/B07XVMCLP7/ref=cm_cr_dp_d_show_all_btm?ie=UTF8&reviewerType=all_reviews'\n",
    "    ,'https://www.amazon.in/Nokia-5-3-Android-Smartphone-64/product-reviews/B08GT28WQQ/ref=cm_cr_dp_d_show_all_btm?ie=UTF8&reviewerType=all_reviews'\n",
    "    ,'https://www.amazon.in/Redmi-Note-Pebble-Grey-Storage/product-reviews/B086977TR6/ref=cm_cr_dp_d_show_all_btm?ie=UTF8&reviewerType=all_reviews'\n",
    "]\n",
    "url_names=['One Plus Nord 5G','iPhone Xs','Samsung Galaxy Note 20 Ultra 5G','oppo A11K',\n",
    "           'Samsung Galaxy M31','Redmi 8A dual','Tecno Spark 6 Air','iPhone 11','Nokia 5.3 Android One Smartphone'\n",
    "          ,'Redmi Note 9 (Pebble Grey, 4GB RAM 64GB Storage)']\n"
   ]
  },
  {
   "cell_type": "code",
   "execution_count": 224,
   "metadata": {},
   "outputs": [],
   "source": [
    "def content_request(link):\n",
    "    page=requests.get(link)\n",
    "    soup=BeautifulSoup(page.content,'html.parser')\n",
    "    rating=soup.find_all('i',class_='review-rating')\n",
    "    review=soup.find_all('span',{\"data-hook\":\"review-body\"})\n",
    "    reviews=cleaner(review)\n",
    "    ratings=cleaner(rating)\n",
    "    ratings.pop(0)\n",
    "    ratings.pop(0)\n",
    "    \n",
    "    return ratings,reviews\n",
    "                         \n",
    "    "
   ]
  },
  {
   "cell_type": "code",
   "execution_count": 225,
   "metadata": {},
   "outputs": [],
   "source": [
    "def cleaner(corpus):\n",
    "    list_to_append=[]\n",
    "    for i in range(0,len(corpus)):\n",
    "        list_to_append.append(corpus[i].get_text())\n",
    "        \n",
    "    list_to_append[:]=[text.strip('\\n') for text in list_to_append]\n",
    "    \n",
    "    return list_to_append"
   ]
  },
  {
   "cell_type": "code",
   "execution_count": 226,
   "metadata": {},
   "outputs": [],
   "source": [
    "Test_corpus=[]\n",
    "Test_labels=[]\n",
    "count=0\n",
    "for i in range(0,len(url_links)):\n",
    "    link=url_links[i]\n",
    "    rate,text=content_request(link)\n",
    "    \n",
    "    Test_corpus+=text\n",
    "    Test_labels+=rate"
   ]
  },
  {
   "cell_type": "code",
   "execution_count": 227,
   "metadata": {},
   "outputs": [
    {
     "data": {
      "text/plain": [
       "100"
      ]
     },
     "execution_count": 227,
     "metadata": {},
     "output_type": "execute_result"
    }
   ],
   "source": [
    "len(Test_corpus)"
   ]
  },
  {
   "cell_type": "code",
   "execution_count": 228,
   "metadata": {},
   "outputs": [
    {
     "data": {
      "text/plain": [
       "100"
      ]
     },
     "execution_count": 228,
     "metadata": {},
     "output_type": "execute_result"
    }
   ],
   "source": [
    "len(Test_labels)"
   ]
  },
  {
   "cell_type": "code",
   "execution_count": 229,
   "metadata": {},
   "outputs": [],
   "source": [
    "Test_labels[:]=[t[0] for t in Test_labels]\n",
    "for i in range(0, len(Test_labels)): \n",
    "    Test_labels[i] = int(Test_labels[i]) \n",
    "    if Test_labels[i]==1 or Test_labels[i]==2:\n",
    "        Test_labels[i]=0\n",
    "    else:\n",
    "        Test_labels[i]=1"
   ]
  },
  {
   "cell_type": "code",
   "execution_count": 230,
   "metadata": {},
   "outputs": [],
   "source": [
    "accuracy_amazon,precison_amazon,predicted_values=test_naive_bayes(Test_corpus, Test_labels, logprior, loglikelihood)"
   ]
  },
  {
   "cell_type": "code",
   "execution_count": 231,
   "metadata": {},
   "outputs": [
    {
     "name": "stdout",
     "output_type": "stream",
     "text": [
      "The accuracy of naive byes model is 0.78\n",
      "\n",
      "the Precision of naive byes model is 0.7314337568058076\n"
     ]
    }
   ],
   "source": [
    "print(\"The accuracy of naive byes model is {}\\n\".format(accuracy_amazon))\n",
    "print(\"the Precision of naive byes model is {}\".format(precison_amazon))\n"
   ]
  },
  {
   "cell_type": "code",
   "execution_count": 233,
   "metadata": {},
   "outputs": [],
   "source": [
    "True_predictions=0\n",
    "False_predictions=0\n",
    "for i,v in enumerate(predicted_values):\n",
    "    if Test_labels[i]==v:\n",
    "        True_predictions+=1\n",
    "    else:\n",
    "        False_predictions+=1"
   ]
  },
  {
   "cell_type": "code",
   "execution_count": 234,
   "metadata": {},
   "outputs": [
    {
     "data": {
      "text/plain": [
       "78"
      ]
     },
     "execution_count": 234,
     "metadata": {},
     "output_type": "execute_result"
    }
   ],
   "source": [
    "True_predictions"
   ]
  },
  {
   "cell_type": "code",
   "execution_count": 235,
   "metadata": {},
   "outputs": [
    {
     "data": {
      "text/plain": [
       "22"
      ]
     },
     "execution_count": 235,
     "metadata": {},
     "output_type": "execute_result"
    }
   ],
   "source": [
    "False_predictions"
   ]
  },
  {
   "cell_type": "code",
   "execution_count": 236,
   "metadata": {},
   "outputs": [
    {
     "data": {
      "text/plain": [
       "<Figure size 720x504 with 0 Axes>"
      ]
     },
     "metadata": {},
     "output_type": "display_data"
    },
    {
     "data": {
      "image/png": "[encoded data removed]",
      "text/plain": [
       "<Figure size 720x504 with 1 Axes>"
      ]
     },
     "metadata": {},
     "output_type": "display_data"
    }
   ],
   "source": [
    "                                '''  EXPLORATORY DATA ANALYSIS(EDA) PART 2  '''\n",
    "    \n",
    "#USING PIE CHART TO VIEW HOW MANY TIMES DIFFERENT SENTIMENT OCCUR\n",
    "count=Counter(train_label)\n",
    "fig=plt.figure(figsize=(10,7))\n",
    "occurence_list=[True_predictions,False_predictions]\n",
    "label_for_pie=['Correct Predicted','Wrong Predicted']\n",
    "# Creating explode data \n",
    "explode = (0.1, 0.0) \n",
    "  # Creating color parameters \n",
    "colors = ( \"orange\", \"cyan\") \n",
    "# Wedge properties \n",
    "wp = { 'linewidth' : 1, 'edgecolor' : \"green\" } \n",
    "  # Creating autocpt arguments \n",
    "def func(pct, allvalues): \n",
    "    absolute = int(pct / 100.*np.sum(allvalues)) \n",
    "    return \"{:.1f}%\\n({:d} g)\".format(pct, absolute) \n",
    "  # Creating plot \n",
    "fig, ax = plt.subplots(figsize =(10, 7)) \n",
    "wedges, texts, autotexts = ax.pie(occurence_list,  \n",
    "                                  autopct = lambda pct: func(pct, occurence_list), \n",
    "                                  explode = explode,  \n",
    "                                  labels = label_for_pie, \n",
    "                                  shadow = True, \n",
    "                                  colors = colors, \n",
    "                                  startangle = 90, \n",
    "                                  wedgeprops = wp, \n",
    "                                  textprops = dict(color =\"magenta\")) \n",
    "  # Adding legend \n",
    "ax.legend(wedges, label_for_pie, \n",
    "          title =\"Accuracy\", \n",
    "          loc =\"center left\", \n",
    "          bbox_to_anchor =(1, 0, 0.5, 1)) \n",
    "plt.setp(autotexts, size = 8, weight =\"bold\") \n",
    "ax.set_title(\"pie chart\") \n",
    "  # show plot \n",
    "plt.show() "
   ]
  },
  {
   "cell_type": "code",
   "execution_count": null,
   "metadata": {},
   "outputs": [],
   "source": []
  },
  {
   "cell_type": "code",
   "execution_count": null,
   "metadata": {},
   "outputs": [],
   "source": []
  }
 ],
 "metadata": {
  "kernelspec": {
   "display_name": "Python 3",
   "language": "python",
   "name": "python3"
  },
  "language_info": {
   "codemirror_mode": {
    "name": "ipython",
    "version": 3
   },
   "file_extension": ".py",
   "mimetype": "text/x-python",
   "name": "python",
   "nbconvert_exporter": "python",
   "pygments_lexer": "ipython3",
   "version": "3.7.6"
  }
 },
 "nbformat": 4,
 "nbformat_minor": 4
}
