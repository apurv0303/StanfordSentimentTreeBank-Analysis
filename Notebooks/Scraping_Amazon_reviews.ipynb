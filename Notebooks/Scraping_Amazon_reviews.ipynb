{
 "cells": [
  {
   "cell_type": "code",
   "execution_count": 182,
   "metadata": {},
   "outputs": [],
   "source": [
    "'''\n",
    "For scrapping task I have to scrap review of 10 phones with each having 10 reviews.\n",
    "\n",
    "So,The testing will be done on total 100 reviews.\n",
    "'''\n",
    "import requests\n",
    "from bs4 import BeautifulSoup  #I found beautiful soup more faster and easier to use than others.\n",
    "import time"
   ]
  },
  {
   "cell_type": "code",
   "execution_count": 183,
   "metadata": {},
   "outputs": [],
   "source": [
    "start = time.process_time()"
   ]
  },
  {
   "cell_type": "code",
   "execution_count": 184,
   "metadata": {},
   "outputs": [],
   "source": [
    "#Providing all the links of phones review that I will scrap\n",
    "url_links=[\n",
    "     'https://www.amazon.in/OnePlus-Nord-Marble-128GB-Storage/product-reviews/B086977J3K/ref=cm_cr_dp_d_show_all_btm?ie=UTF8&reviewerType=all_reviews',\n",
    "  'https://www.amazon.in/Apple-iPhone-Xs-512GB-Space/product-reviews/B07J3CJH8S/ref=cm_cr_dp_d_show_all_btm?ie=UTF8&reviewerType=all_reviews',\n",
    "  'https://www.amazon.in/Samsung-Galaxy-Storage-Additional-Exchange/product-reviews/B089MQ7C7V/ref=cm_cr_dp_d_show_all_btm?ie=UTF8&reviewerType=all_reviews'\n",
    "    ,'https://www.amazon.in/OPPO-Storage-Additional-Exchange-Offers/product-reviews/B086KF4FYC/ref=cm_cr_dp_d_show_all_btm?ie=UTF8&reviewerType=all_reviews'\n",
    "    ,'https://www.amazon.in/Samsung-Galaxy-Ocean-128GB-Storage/product-reviews/B07HGGYWL6/ref=cm_cr_dp_d_show_all_btm?ie=UTF8&reviewerType=all_reviews'\n",
    "    ,'https://www.amazon.in/Redmi-8A-Dual-Blue-Storage/product-reviews/B07X4R63DF/ref=cm_cr_dp_d_show_all_btm?ie=UTF8&reviewerType=all_reviews'\n",
    "    ,'https://www.amazon.in/TECNO-Spark-Comet-Black-Storage/product-reviews/B08HX4RKR1/ref=cm_cr_dp_d_show_all_btm?ie=UTF8&reviewerType=all_reviews'\n",
    "    ,'https://www.amazon.in/Apple-iPhone-11-64GB-White/product-reviews/B07XVMCLP7/ref=cm_cr_dp_d_show_all_btm?ie=UTF8&reviewerType=all_reviews'\n",
    "    ,'https://www.amazon.in/Nokia-5-3-Android-Smartphone-64/product-reviews/B08GT28WQQ/ref=cm_cr_dp_d_show_all_btm?ie=UTF8&reviewerType=all_reviews'\n",
    "    ,'https://www.amazon.in/Redmi-Note-Pebble-Grey-Storage/product-reviews/B086977TR6/ref=cm_cr_dp_d_show_all_btm?ie=UTF8&reviewerType=all_reviews'\n",
    "]\n",
    "url_names=['One Plus Nord 5G','iPhone Xs','Samsung Galaxy Note 20 Ultra 5G','oppo A11K',\n",
    "           'Samsung Galaxy M31','Redmi 8A dual','Tecno Spark 6 Air','iPhone 11','Nokia 5.3 Android One Smartphone'\n",
    "          ,'Redmi Note 9 (Pebble Grey, 4GB RAM 64GB Storage)']\n"
   ]
  },
  {
   "cell_type": "code",
   "execution_count": 185,
   "metadata": {},
   "outputs": [],
   "source": [
    "#This function will get the contents and remove duplicates,then returns cleaner ratings,review\n",
    "def content_request(link):\n",
    "    page=requests.get(link)\n",
    "    soup=BeautifulSoup(page.content,'html.parser')\n",
    "    rating=soup.find_all('i',class_='review-rating')\n",
    "    review=soup.find_all('span',{\"data-hook\":\"review-body\"})\n",
    "    reviews=cleaner(review)\n",
    "    ratings=cleaner(rating)\n",
    "    ratings.pop(0)\n",
    "    ratings.pop(0)\n",
    "    \n",
    "    return ratings,reviews\n",
    "                         \n",
    "    "
   ]
  },
  {
   "cell_type": "code",
   "execution_count": 186,
   "metadata": {},
   "outputs": [],
   "source": [
    "#Used it to remove \\n present in corpus\n",
    "def cleaner(corpus):\n",
    "    list_to_append=[]\n",
    "    for i in range(0,len(corpus)):\n",
    "        list_to_append.append(corpus[i].get_text())\n",
    "        \n",
    "    list_to_append[:]=[text.strip('\\n') for text in list_to_append]\n",
    "    \n",
    "    return list_to_append"
   ]
  },
  {
   "cell_type": "code",
   "execution_count": 187,
   "metadata": {},
   "outputs": [],
   "source": [
    "#To make final Test corpus and Test labels\n",
    "Test_corpus=[]\n",
    "Test_labels=[]\n",
    "count=0\n",
    "for i in range(0,len(url_links)):\n",
    "    link=url_links[i]\n",
    "    rate,text=content_request(link)\n",
    "    \n",
    "    Test_corpus+=text\n",
    "    Test_labels+=rate"
   ]
  },
  {
   "cell_type": "code",
   "execution_count": 188,
   "metadata": {},
   "outputs": [
    {
     "data": {
      "text/plain": [
       "100"
      ]
     },
     "execution_count": 188,
     "metadata": {},
     "output_type": "execute_result"
    }
   ],
   "source": [
    "len(Test_corpus)\n",
    "len(Test_labels)"
   ]
  },
  {
   "cell_type": "code",
   "execution_count": 189,
   "metadata": {},
   "outputs": [],
   "source": [
    "end=time.process_time()"
   ]
  },
  {
   "cell_type": "code",
   "execution_count": 190,
   "metadata": {},
   "outputs": [],
   "source": [
    "#Changing rating to only 0 or 1\n",
    "Test_labels[:]=[t[0] for t in Test_labels]\n",
    "for i in range(0, len(Test_labels)): \n",
    "    Test_labels[i] = int(Test_labels[i]) \n",
    "    if Test_labels[i]==1 or Test_labels[i]==2:\n",
    "        Test_labels[i]=0\n",
    "    else:\n",
    "        Test_labels[i]=1"
   ]
  },
  {
   "cell_type": "code",
   "execution_count": 191,
   "metadata": {},
   "outputs": [],
   "source": [
    "difference=start-end"
   ]
  },
  {
   "cell_type": "code",
   "execution_count": 194,
   "metadata": {},
   "outputs": [
    {
     "name": "stdout",
     "output_type": "stream",
     "text": [
      "Time taken to extract and clean information is--3.828125\n"
     ]
    }
   ],
   "source": [
    "print('Time taken to extract and clean information is-{}'.format(difference))"
   ]
  },
  {
   "cell_type": "code",
   "execution_count": null,
   "metadata": {},
   "outputs": [],
   "source": []
  },
  {
   "cell_type": "code",
   "execution_count": null,
   "metadata": {},
   "outputs": [],
   "source": []
  }
 ],
 "metadata": {
  "kernelspec": {
   "display_name": "Python 3",
   "language": "python",
   "name": "python3"
  },
  "language_info": {
   "codemirror_mode": {
    "name": "ipython",
    "version": 3
   },
   "file_extension": ".py",
   "mimetype": "text/x-python",
   "name": "python",
   "nbconvert_exporter": "python",
   "pygments_lexer": "ipython3",
   "version": "3.7.6"
  }
 },
 "nbformat": 4,
 "nbformat_minor": 4
}
